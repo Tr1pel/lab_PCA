{
  "nbformat": 4,
  "nbformat_minor": 0,
  "metadata": {
    "colab": {
      "provenance": [],
      "toc_visible": true
    },
    "kernelspec": {
      "name": "python3",
      "display_name": "Python 3"
    },
    "language_info": {
      "name": "python"
    }
  },
  "cells": [
    {
      "cell_type": "markdown",
      "source": [
        "# Лабораторная работа PCA\n"
      ],
      "metadata": {
        "id": "3ufJG3S8Z-2G"
      }
    },
    {
      "cell_type": "markdown",
      "source": [
        "## Теоретический вопрос №1\n",
        "\n",
        "> Доказать, что оптимальные направления PCA совпадают с собственными векторами матрицы ковариаций.\n",
        "\n",
        "PCA ищет векторы, вдоль которых данные имеют максимальную дисперсию. Математически это означает, что мы ищем единичный вектор w, который максимизирует выражение: $$\\text{var} (X·w) = w^T · C · w$$\n",
        "где $X$ это матрица центрированных данных, $C$ - матрица ковариаций, $w$ - искомый единичный вектор.\n",
        "\n",
        "Другими словами, PCA пытается найти \"направления\" которые соответствуют направлениям наибольшего разброса данных. Матрица ковариаций характеризует форму и ориентацию: собственные векторы указывают направления осей, а собственные значения определяют длины.\n",
        "\n",
        "Первая главная компонента (собственный вектор с наибольшим собственным значением) указывает направление, вдоль которого данные варьируются больше всего. Вторая главная компонента перпендикулярна первой и указывает направление второго по величине разброса данных. Последующие компоненты продолжают этот паттерн, при этом всегда оставаясь перпендикулярными всем предыдущим компонентам.\n",
        "\n",
        "\n",
        "Докажем математически:\n",
        "Проекция набора данных $X$ на направление $w$ дается выражением $Xw$.\n",
        "Дисперсия этой проекции: $$ \\text{var}(Xw) = w^T C w$$\n",
        "Мы хотим максимизировать эту дисперсию при ограничении, что $w$ — единичный вектор. Примененим метод множителей Лагранжа: $$L(w, λ) = w^T C w - λ(w^T w - 1)$$, где $λ$ — множитель Лагранжа. Берем производную $L$ по $w$ и приравниваем к нулю: $$∂L/∂w = 2Cw - 2λw = 0 \\\\ Cw - λw = 0 \\\\ Cw = λw$$\n",
        "\n",
        "Полученное уравнение $Cw = λw$ — определение собственного вектора $w$ и собственного значения $λ$ для матрицы $C$. Подставляя собственный вектор $w$ обратно в целевую функцию, получаем: $$w^T C w = w^T (λw) = λw^T w = λ$$ Поскольку w^T w = 1, значение целевой функции равно λ.\n",
        "\n",
        "Для нахождения второй главной компоненты мы добавляем ограничение ортогональности к первой компоненте: максимизировать: $w^T C w$ при ограничениях $w^T w = 1$ и $w^T w₁ = 0$, где $w₁$ — первая главная компонента.\n",
        "\n",
        "Решая эту задачу аналогично, получаем, что вторая главная компонента — это собственный вектор, соответствующий второму по величине собственному значению.\n",
        "\n",
        "Этот процесс можно продолжить для всех компонент."
      ],
      "metadata": {
        "id": "nTdP8P_RaLwr"
      }
    },
    {
      "cell_type": "markdown",
      "source": [
        "## Ввод класса Matrix"
      ],
      "metadata": {
        "id": "XxmmHzupglDx"
      }
    },
    {
      "cell_type": "markdown",
      "source": [
        "Для последующей работы введем класс Matrix с нужными для нас функциями, такими как создание матрицы, вставка значений, операции с матрицами и другое."
      ],
      "metadata": {
        "id": "WVGo4XOnZ7tT"
      }
    },
    {
      "cell_type": "code",
      "source": [
        "class Matrix:\n",
        "    def __init__(self, rows, cols):\n",
        "        \"\"\" Инициализация матрицы указанного размера \"\"\"\n",
        "        self.rows = rows\n",
        "        self.cols = cols\n",
        "        # Инициализация матрицы нулями\n",
        "        self.data = [[0.0 for _ in range(cols)] for _ in range(rows)]\n",
        "\n",
        "    def set(self, i, j, value):\n",
        "        \"\"\" Установка значения элемента матрицы \"\"\"\n",
        "        if 0 <= i < self.rows and 0 <= j < self.cols:\n",
        "            self.data[i][j] = float(value)\n",
        "        else:\n",
        "            raise IndexError(f\"Индексы ({i}, {j}) выходят за пределы матрицы размера {self.rows}x{self.cols}\")\n",
        "\n",
        "    def get(self, i, j):\n",
        "        \"\"\" Получение значения элемента матрицы \"\"\"\n",
        "        if 0 <= i < self.rows and 0 <= j < self.cols:\n",
        "            return self.data[i][j]\n",
        "        else:\n",
        "            raise IndexError(f\"Индексы ({i}, {j}) выходят за пределы матрицы размера {self.rows}x{self.cols}\")\n",
        "\n",
        "    def __mul__(self, scalar):\n",
        "        \"\"\" Умножение матрицы на скаляр \"\"\"\n",
        "        if not isinstance(scalar, (int, float)):\n",
        "            raise TypeError(\"Скалярное умножение поддерживается только для чисел\")\n",
        "\n",
        "        result = Matrix(self.rows, self.cols)\n",
        "        for i in range(self.rows):\n",
        "            for j in range(self.cols):\n",
        "                result.data[i][j] = self.data[i][j] * scalar\n",
        "        return result\n",
        "\n",
        "    def __sub__(self, other):\n",
        "        \"\"\" Вычитание двух матриц \"\"\"\n",
        "        if not isinstance(other, Matrix):\n",
        "            raise TypeError(\"Операция вычитания поддерживается только между матрицами\")\n",
        "        if self.rows != other.rows or self.cols != other.cols:\n",
        "            raise ValueError(\"Матрицы должны быть одинакового размера для вычитания\")\n",
        "\n",
        "        result = Matrix(self.rows, self.cols)\n",
        "        for i in range(self.rows):\n",
        "            for j in range(self.cols):\n",
        "                result.data[i][j] = self.data[i][j] - other.data[i][j]\n",
        "        return result\n",
        "\n",
        "    def __str__(self):\n",
        "        \"\"\" Строковое представление матрицы для вывода \"\"\"\n",
        "        rows_str = []\n",
        "        for row in self.data:\n",
        "            rows_str.append(\"[\" + \", \".join([f\"{val}\" for val in row]) + \"]\")\n",
        "        return \"\\n\".join(rows_str)"
      ],
      "metadata": {
        "id": "hQ92k7Asaf0h"
      },
      "execution_count": null,
      "outputs": []
    },
    {
      "cell_type": "markdown",
      "source": [
        "## Решение СЛАУ\n",
        "\n",
        "Реализуем решение СЛАУ методом Гаусса. Логика все та же как что и на бумаге, едиснтвенное очень мучительный (лично для меня) процесс реализации. В общем суть следующая:\n",
        "- Создаем матрицу [A|b]\n",
        "- Приводим к ступенчатому виду\n",
        "- Делаем обратный обход\n",
        "- Получаем ответ\n",
        "\n",
        "Для удобства функции прямого и обратного обхода были реализованы в отдельных функция gaussian_elimination и back_substitution."
      ],
      "metadata": {
        "id": "o-sxPg5T0syx"
      }
    },
    {
      "cell_type": "code",
      "source": [
        "from typing import List\n",
        "def gauss_solver(A: Matrix, b: Matrix) -> List[List[float]]:\n",
        "    n = A.rows\n",
        "    # построим расширенную матрицу\n",
        "    aug = Matrix(n, n+1)\n",
        "    for i in range(n):\n",
        "        for j in range(n):\n",
        "            aug.set(i, j, A.get(i, j))\n",
        "        aug.set(i, n, b.get(i, 0))\n",
        "    M = gaussian_elimination(aug)\n",
        "    return back_substitution(M)\n",
        "\n",
        "def gaussian_elimination(M: Matrix):\n",
        "    n, m = M.rows, M.cols\n",
        "\n",
        "    # Создаем копию\n",
        "    R = Matrix(n, m)\n",
        "    for i in range(n):\n",
        "        for j in range(m):\n",
        "            R.set(i, j, M.get(i, j))\n",
        "\n",
        "    h = k = 0\n",
        "    eps = 1e-12\n",
        "\n",
        "    while h < n and k < m-1:\n",
        "        # ищем лучшую опору\n",
        "        i_max, max_val = h, abs(R.get(h,k))\n",
        "        for i in range(h+1, n):\n",
        "            v = abs(R.get(i,k))\n",
        "            if v > max_val:\n",
        "                i_max, max_val = i, v\n",
        "        if max_val < eps:\n",
        "            k += 1\n",
        "            continue\n",
        "\n",
        "        # меняем местами строку\n",
        "        if i_max != h:\n",
        "            for j in range(m):\n",
        "                R.set(h, j, R.get(i_max, j))\n",
        "                R.set(i_max, j, R.get(h, j))\n",
        "\n",
        "        # обнуляем ниже\n",
        "        for i in range(h+1, n):\n",
        "            factor = R.get(i,k)/R.get(h,k)\n",
        "            R.set(i, k, 0.0)\n",
        "            for j in range(k+1, m):\n",
        "                R.set(i, j, R.get(i,j) - factor*R.get(h,j))\n",
        "\n",
        "        h += 1\n",
        "        k += 1\n",
        "\n",
        "    return R\n",
        "\n",
        "def back_substitution(M: Matrix) -> List[List[float]]:\n",
        "    n = M.rows\n",
        "    m = M.cols - 1\n",
        "    # вычисляем ранк\n",
        "    rank = sum(\n",
        "        any(abs(M.get(i,j))>1e-12 for j in range(m))\n",
        "        for i in range(n)\n",
        "    )\n",
        "    # находим опорные столбцы\n",
        "    pivots = {}\n",
        "    for i in range(rank):\n",
        "        for j in range(m):\n",
        "            if abs(M.get(i,j))>1e-12:\n",
        "                pivots[j] = i\n",
        "                break\n",
        "\n",
        "    free_vars = [j for j in range(m) if j not in pivots]\n",
        "    basis = []\n",
        "\n",
        "    for free_j in free_vars:\n",
        "        sol = [0.0]*m\n",
        "        sol[free_j] = 1.0\n",
        "        # обратный ход\n",
        "        for i in range(rank-1, -1, -1):\n",
        "            # найдём опорный столбец\n",
        "            pivot_col = next(\n",
        "                (j for j in range(m) if abs(M.get(i,j))>1e-12),\n",
        "                None\n",
        "            )\n",
        "            if pivot_col is None:\n",
        "                continue\n",
        "            rhs = sum(M.get(i,j)*sol[j] for j in range(pivot_col+1,m))\n",
        "            sol[pivot_col] = -rhs / M.get(i,pivot_col)\n",
        "        basis.append(sol)\n",
        "\n",
        "    # если basis остался пустым\n",
        "    return basis or [[0.0]*m]\n"
      ],
      "metadata": {
        "id": "nMCeNL9e8b8a"
      },
      "execution_count": null,
      "outputs": []
    },
    {
      "cell_type": "markdown",
      "source": [
        "## Центрирования данных"
      ],
      "metadata": {
        "id": "p6z1-W5eXLfD"
      }
    },
    {
      "cell_type": "markdown",
      "source": [
        "Для реализации центрирования данных используется алгоритм, который находит среднее занчение по каждому столбцу и вычитает его из начальной матрицы. Результат будет центрированная матрица."
      ],
      "metadata": {
        "id": "nIj26vxrXT9_"
      }
    },
    {
      "cell_type": "code",
      "source": [
        "def center_data(matrix):\n",
        "    # Создаем новую матрицу для центрированных данных\n",
        "    centered = Matrix(matrix.rows, matrix.cols)\n",
        "\n",
        "    # Вычисляем среднее по каждому столбцу\n",
        "    column_means = []\n",
        "    for j in range(matrix.cols):\n",
        "        col_sum = 0.0\n",
        "        for i in range(matrix.rows):\n",
        "            col_sum += matrix.get(i, j)\n",
        "        column_means.append(col_sum / matrix.rows)\n",
        "\n",
        "    # Центрируем данные\n",
        "    for i in range(matrix.rows):\n",
        "        for j in range(matrix.cols):\n",
        "            centered_value = matrix.get(i, j) - column_means[j]\n",
        "            centered.set(i, j, centered_value)\n",
        "\n",
        "    return centered"
      ],
      "metadata": {
        "id": "hE2Kfa9wcMPT"
      },
      "execution_count": null,
      "outputs": []
    },
    {
      "cell_type": "markdown",
      "source": [
        "Пример работы:"
      ],
      "metadata": {
        "id": "nGh6Ub1Dd3hl"
      }
    },
    {
      "cell_type": "code",
      "source": [
        "# Создаем матрицу 4x3\n",
        "data = Matrix(4, 3)\n",
        "\n",
        "# Заполняем матрицу значениями\n",
        "values = [\n",
        "    [1, 2, 3],\n",
        "    [4, 5, 6],\n",
        "    [7, 8, 9],\n",
        "    [10, 11, 12]\n",
        "]\n",
        "\n",
        "for i in range(4):\n",
        "    for j in range(3):\n",
        "        data.set(i, j, values[i][j])\n",
        "\n",
        "print(\"Исходная матрица:\")\n",
        "print(data)\n",
        "\n",
        "centered_data = center_data(data)\n",
        "print(\"\\nЦентрированная матрица:\")\n",
        "print(centered_data)"
      ],
      "metadata": {
        "colab": {
          "base_uri": "https://localhost:8080/"
        },
        "id": "qLv9OiArcYk-",
        "outputId": "33772ecc-949c-4dcc-986d-fc856cce97db"
      },
      "execution_count": null,
      "outputs": [
        {
          "output_type": "stream",
          "name": "stdout",
          "text": [
            "Исходная матрица:\n",
            "[1.0, 2.0, 3.0]\n",
            "[4.0, 5.0, 6.0]\n",
            "[7.0, 8.0, 9.0]\n",
            "[10.0, 11.0, 12.0]\n",
            "\n",
            "Центрированная матрица:\n",
            "[-4.5, -4.5, -4.5]\n",
            "[-1.5, -1.5, -1.5]\n",
            "[1.5, 1.5, 1.5]\n",
            "[4.5, 4.5, 4.5]\n"
          ]
        }
      ]
    },
    {
      "cell_type": "markdown",
      "source": [
        "## Матрицы ковариаций"
      ],
      "metadata": {
        "id": "yJB8I7g0erRJ"
      }
    },
    {
      "cell_type": "markdown",
      "source": [
        "Основной алгоритм:\n",
        "- Для каждой пары признаков вычисляем сумму произведений центрированных значений для всех наблюдений k\n",
        "- Делим сумму на $n-1$ для получения несмещенной оценки ковариации\n",
        "- Сохраняем результат в матрице, оно и будет матрицей ковариаций\n",
        "\n",
        "Стоит так же учесть что матрица ковариаций квадратная."
      ],
      "metadata": {
        "id": "RC2H01m1jjfn"
      }
    },
    {
      "cell_type": "code",
      "source": [
        "def covariance_matrix(centered_matrix):\n",
        "    # Размеры матрицы\n",
        "    n = centered_matrix.rows  # наблюдения\n",
        "    p = centered_matrix.cols  # признаки\n",
        "\n",
        "    # Создаем матрицу ковариаций размера p x p\n",
        "    cov_matrix = Matrix(p, p)\n",
        "\n",
        "    for i in range(p):\n",
        "        for j in range(p):\n",
        "            # Вычисляем ковариацию между i-м и j-м признаками\n",
        "            covariance = 0.0\n",
        "            for k in range(n):\n",
        "                covariance += centered_matrix.get(k, i) * centered_matrix.get(k, j)\n",
        "\n",
        "            # Делим на n-1 для несмещенной оценки ковариации\n",
        "            covariance /= (n - 1)\n",
        "\n",
        "            cov_matrix.set(i, j, covariance)\n",
        "\n",
        "    return cov_matrix"
      ],
      "metadata": {
        "id": "QxaXnQbgcbrj"
      },
      "execution_count": null,
      "outputs": []
    },
    {
      "cell_type": "markdown",
      "source": [
        "Пример работы:"
      ],
      "metadata": {
        "id": "Eaa0kveGcsgS"
      }
    },
    {
      "cell_type": "code",
      "source": [
        "print(\"Исходная матрица:\")\n",
        "print(data)\n",
        "\n",
        "# Вычисляем матрицу ковариаций\n",
        "cov_mat = covariance_matrix(centered_data)\n",
        "print(\"\\nМатрица ковариаций:\")\n",
        "print(cov_mat)"
      ],
      "metadata": {
        "colab": {
          "base_uri": "https://localhost:8080/"
        },
        "id": "7R8ckuNrineT",
        "outputId": "438800e4-8287-46d3-ca0f-b92f51b80ff5"
      },
      "execution_count": null,
      "outputs": [
        {
          "output_type": "stream",
          "name": "stdout",
          "text": [
            "Исходная матрица:\n",
            "[1.0, 2.0, 3.0]\n",
            "[4.0, 5.0, 6.0]\n",
            "[7.0, 8.0, 9.0]\n",
            "[10.0, 11.0, 12.0]\n",
            "\n",
            "Матрица ковариаций:\n",
            "[15.0, 15.0, 15.0]\n",
            "[15.0, 15.0, 15.0]\n",
            "[15.0, 15.0, 15.0]\n"
          ]
        }
      ]
    },
    {
      "cell_type": "markdown",
      "source": [
        "## Собсвтенное значени"
      ],
      "metadata": {
        "id": "pu_qDta_m3js"
      }
    },
    {
      "cell_type": "markdown",
      "source": [
        "Реализуем функции для поиска определителя. Для этого нам понадобятся все те же знания линейной алгербры.\n",
        "\n",
        "Детерминант у $(C- \\lambda I) = 0$. Исходя из этого, по наработанной на практике опытом, нужно найти такое $\\lambda$, что бы урованение давало нулевой определитель.\n",
        "\n",
        "Релизуй функцию для поиска определителя, после чего перейдем к самому поиску собственного значения."
      ],
      "metadata": {
        "id": "n8QQ-5qC7pOv"
      }
    },
    {
      "cell_type": "code",
      "source": [
        "def determinant(matrix):\n",
        "    n = matrix.rows\n",
        "\n",
        "    if n == 1:\n",
        "        return matrix.get(0, 0)\n",
        "    if n == 2:\n",
        "        return matrix.get(0, 0) * matrix.get(1, 1) - matrix.get(0, 1) * matrix.get(1, 0)\n",
        "\n",
        "    # разложение по первой строке\n",
        "    det = 0\n",
        "    for j in range(n):\n",
        "        # Создаем подматрицу, исключая первую строку и j-й столбец\n",
        "        submatrix = Matrix(n-1, n-1)\n",
        "        for row in range(1, n):\n",
        "            col_idx = 0\n",
        "            for col in range(n):\n",
        "                if col != j:\n",
        "                    submatrix.set(row-1, col_idx, matrix.get(row, col))\n",
        "                    col_idx += 1\n",
        "\n",
        "        # Добавляем к определителю с учетом знака (-1)^(i+j)\n",
        "        sign = 1 if j % 2 == 0 else -1\n",
        "        det += sign * matrix.get(0, j) * determinant(submatrix)\n",
        "\n",
        "    return det"
      ],
      "metadata": {
        "id": "1m4zPyUritIY"
      },
      "execution_count": null,
      "outputs": []
    },
    {
      "cell_type": "markdown",
      "source": [
        "Перейдем к самому поиску собсвтенного значения.\n",
        "\n",
        "Для реализации функции нужно было применить метод бисекции. Его суть заключаетяс в том, что мы делим весь интервал и ищем когда лямда будет равна нулю. Если на каком-то интервале меняется знак, значит там есть такое число что дает ноль. При слишком малых числах в результатах мы записываем лямду как ответ. Так же может быть такое, что нам не хватает количество итераций, и мы записываем среднее значение интервала."
      ],
      "metadata": {
        "id": "c5JGteZQ7tyH"
      }
    },
    {
      "cell_type": "code",
      "source": [
        "def find_eigenvalues(matrix, tol=1e-6, max_iterations=100, search_min=-100, search_max=100):\n",
        "    \"\"\" Находит собственные значения матрицы методом бисекции \"\"\"\n",
        "\n",
        "    n = matrix.rows\n",
        "    eigenvalues = []\n",
        "\n",
        "    # Создаем единичную матрицу\n",
        "    identity = Matrix(n, n)\n",
        "    for i in range(n):\n",
        "        identity.set(i, i, 1.0)\n",
        "\n",
        "    # Функция для вычисления определителя матрицы (C - lambda*I)\n",
        "    def det_characteristic(lambda_val):\n",
        "        lambda_matrix = identity * lambda_val\n",
        "        c_minus_lambda_i = matrix.__sub__(lambda_matrix)\n",
        "        return determinant(c_minus_lambda_i)\n",
        "\n",
        "    # Разбиваем интервал поиска на подинтервалы для первичного поиска смены знака\n",
        "    step = (search_max - search_min) / 100\n",
        "    prev_lambda = search_min\n",
        "    prev_det = det_characteristic(prev_lambda)\n",
        "\n",
        "    # Ищем интервалы, где определитель меняет знак\n",
        "    for i in range(1, 101):\n",
        "        curr_lambda = search_min + i * step\n",
        "        curr_det = det_characteristic(curr_lambda)\n",
        "\n",
        "        # Если определитель близок к нулю, считаем значение собственным числом\n",
        "        if abs(curr_det) < tol:\n",
        "            eigenvalues.append(curr_lambda)\n",
        "        # Если знак определителя изменился, применяем метод бисекции\n",
        "        elif prev_det * curr_det < 0:\n",
        "            # Метод бисекции\n",
        "            a, b = prev_lambda, curr_lambda\n",
        "            fa, fb = prev_det, curr_det\n",
        "\n",
        "            for _ in range(max_iterations):\n",
        "                # Средняя точка\n",
        "                c = (a + b) / 2\n",
        "                fc = det_characteristic(c)\n",
        "\n",
        "                # Если определитель достаточно близок к нулю\n",
        "                if abs(fc) < tol:\n",
        "                    eigenvalues.append(c)\n",
        "                    break\n",
        "\n",
        "                # Определяем новый интервал поиска\n",
        "                if fa * fc < 0:\n",
        "                    b, fb = c, fc\n",
        "                else:\n",
        "                    a, fa = c, fc\n",
        "\n",
        "                # Проверка на достаточную точность по аргументу\n",
        "                if abs(b - a) < tol:\n",
        "                    eigenvalues.append((a + b) / 2)\n",
        "                    break\n",
        "\n",
        "            # Если после максимального числа итераций не достигли нужной точности,\n",
        "            # возьмем среднее значение интервала\n",
        "            else:\n",
        "                eigenvalues.append((a + b) / 2)\n",
        "\n",
        "        prev_lambda = curr_lambda\n",
        "        prev_det = curr_det\n",
        "\n",
        "    # Удаление дубликатов\n",
        "    # unique_eigenvalues = []\n",
        "    # for val in eigenvalues:\n",
        "    #     is_duplicate = False\n",
        "    #     for unique_val in unique_eigenvalues:\n",
        "    #         if abs(val - unique_val) < tol:\n",
        "    #             is_duplicate = True\n",
        "    #             break\n",
        "    #     if not is_duplicate:\n",
        "    #         unique_eigenvalues.append(val)\n",
        "\n",
        "    return eigenvalues"
      ],
      "metadata": {
        "id": "QA8JywCPm7aE"
      },
      "execution_count": null,
      "outputs": []
    },
    {
      "cell_type": "code",
      "source": [
        "# Пример использования для матрицы 2x2\n",
        "matrix = Matrix(2, 2)\n",
        "matrix.set(0, 0, 4)\n",
        "matrix.set(0, 1, 1)\n",
        "matrix.set(1, 0, 2)\n",
        "matrix.set(1, 1, 3)\n",
        "\n",
        "print(matrix)\n",
        "# Поиск собственных значений методом бисекции\n",
        "eigenvalues = find_eigenvalues(matrix)\n",
        "print(\"Собственные значения матрицы:\")\n",
        "for val in eigenvalues:\n",
        "    print(f\"λ = {val}\")\n"
      ],
      "metadata": {
        "colab": {
          "base_uri": "https://localhost:8080/"
        },
        "id": "AMc3QuE6tX2s",
        "outputId": "1307b623-ce62-46e2-9b7a-9c16d03f7f31"
      },
      "execution_count": null,
      "outputs": [
        {
          "output_type": "stream",
          "name": "stdout",
          "text": [
            "[4.0, 1.0]\n",
            "[2.0, 3.0]\n",
            "Собственные значения матрицы:\n",
            "λ = 2.0\n",
            "λ = 5.0\n"
          ]
        }
      ]
    },
    {
      "cell_type": "markdown",
      "source": [
        "## Собственный вектор"
      ],
      "metadata": {
        "id": "slM2Htcx7igX"
      }
    },
    {
      "cell_type": "markdown",
      "source": [
        "Для нахождения собственного вектора нужно вычесть из матрицы единичную матрицу собственного значения и решить однородное СЛАУ."
      ],
      "metadata": {
        "id": "eKmtiJv0LQIS"
      }
    },
    {
      "cell_type": "code",
      "source": [
        "def find_eigenvectors(matrix, eigenvalues: list[float]):\n",
        "    \"\"\" Находит собственные векторы матрицы \"\"\"\n",
        "\n",
        "    n = matrix.rows\n",
        "    result = {}\n",
        "\n",
        "    b = Matrix(n, 1)\n",
        "    for i in range(n):\n",
        "        b.set(i, 0, 0.0)\n",
        "\n",
        "    for eigenvalue in eigenvalues:\n",
        "        # Собираем матрицу\n",
        "        # Создаем копию матрицы\n",
        "        c_minus_lambda_i = Matrix(n, n+1)\n",
        "        for i in range(n):\n",
        "            for j in range(n):\n",
        "                c_minus_lambda_i.set(i, j, matrix.get(i, j))\n",
        "            # Последний столбец нулевой\n",
        "            c_minus_lambda_i.set(i, n, 0.0)\n",
        "\n",
        "        for i in range(matrix.rows):\n",
        "            c_minus_lambda_i.set(i, i,\n",
        "                c_minus_lambda_i.get(i, i) - eigenvalue\n",
        "            )\n",
        "\n",
        "        # Решаем однородную СЛАУ\n",
        "        basis = gauss_solver(c_minus_lambda_i, b)\n",
        "        if not basis:\n",
        "            continue\n",
        "\n",
        "        eigenvector = basis[0]\n",
        "\n",
        "        # Нормируем\n",
        "        norm = sum(x*x for x in eigenvector) ** 0.5\n",
        "        if norm > 1e-10:\n",
        "            normalized = [x / norm for x in eigenvector]\n",
        "        else:\n",
        "            normalized = eigenvector  # останется как есть, если норма ≈ 0\n",
        "\n",
        "        result[eigenvalue] = normalized\n",
        "\n",
        "    return result"
      ],
      "metadata": {
        "id": "n_kp3YfetYEp"
      },
      "execution_count": null,
      "outputs": []
    },
    {
      "cell_type": "code",
      "source": [
        "# Пример использования для матрицы 2x2\n",
        "matrix = Matrix(2, 2)\n",
        "matrix.set(0, 0, 4)\n",
        "matrix.set(0, 1, 1)\n",
        "matrix.set(1, 0, 2)\n",
        "matrix.set(1, 1, 3)\n",
        "\n",
        "# Поиск собственных значений\n",
        "eigenvalues = find_eigenvalues(matrix)\n",
        "print(\"Собственные значения матрицы:\")\n",
        "for val in eigenvalues:\n",
        "    print(f\"λ = {val}\")\n",
        "\n",
        "# Поиск собственных векторов\n",
        "eigenvectors = find_eigenvectors(matrix, eigenvalues)\n",
        "print(\"\\nСобственные векторы:\")\n",
        "for eigenvalue, eigenvector in eigenvectors.items():\n",
        "    print(f\"Для λ = {eigenvalue}: {eigenvector}\")"
      ],
      "metadata": {
        "colab": {
          "base_uri": "https://localhost:8080/"
        },
        "id": "PHHnLdf0xhQ-",
        "outputId": "2a898b4a-6483-4539-d23e-e5f8b10dcf23"
      },
      "execution_count": null,
      "outputs": [
        {
          "output_type": "stream",
          "name": "stdout",
          "text": [
            "Собственные значения матрицы:\n",
            "λ = 2.0\n",
            "λ = 5.0\n",
            "\n",
            "Собственные векторы:\n",
            "Для λ = 2.0: [-0.4472135954999579, 0.8944271909999159]\n",
            "Для λ = 5.0: [0.7071067811865475, 0.7071067811865475]\n"
          ]
        }
      ]
    },
    {
      "cell_type": "markdown",
      "source": [
        "## Доля объясненной дисперсии"
      ],
      "metadata": {
        "id": "H_gGwjd5M6-n"
      }
    },
    {
      "cell_type": "markdown",
      "source": [
        "Дисперсия - это метрика разброса параметра. Объясненная дисперсия дает понять какая часть общей изменчивости данных объясняется каждой главной компонентой после применения метода."
      ],
      "metadata": {
        "id": "rg2M1vrIN8KW"
      }
    },
    {
      "cell_type": "code",
      "source": [
        "def explained_variance_ratio(eigenvalues: List[float], k: int) -> float:\n",
        "    \"\"\" Вычисление доли объяснённой дисперсии \"\"\"\n",
        "\n",
        "    # сумма всех собственных значений\n",
        "    total_variance = sum(eigenvalues)\n",
        "\n",
        "    # дисперсия, объяснённая первыми k компонентами\n",
        "    explained_variance = sum(eigenvalues[:k])\n",
        "\n",
        "    # доля объяснённой дисперсии\n",
        "    explained_variance_ratio = explained_variance / total_variance\n",
        "\n",
        "    return explained_variance_ratio"
      ],
      "metadata": {
        "id": "OQHfjsWlxiOV"
      },
      "execution_count": null,
      "outputs": []
    },
    {
      "cell_type": "code",
      "source": [
        "# Пример использования\n",
        "eigenvalues = [4.0, 2.0, 1.0, 0.5]\n",
        "k = 2\n",
        "evr = explained_variance_ratio(eigenvalues, k)\n",
        "print(f\"Доля объяснённой дисперсии для первых {k} компонент: {evr}\")"
      ],
      "metadata": {
        "colab": {
          "base_uri": "https://localhost:8080/"
        },
        "id": "5gojlKFVel3s",
        "outputId": "344a1a7b-81db-4161-da84-fd40c4a7b75a"
      },
      "execution_count": null,
      "outputs": [
        {
          "output_type": "stream",
          "name": "stdout",
          "text": [
            "Доля объяснённой дисперсии для первых 2 компонент: 0.8\n"
          ]
        }
      ]
    },
    {
      "cell_type": "markdown",
      "source": [
        "## Полный алгоритм PCA"
      ],
      "metadata": {
        "id": "5tHEDHhfQcgR"
      }
    },
    {
      "cell_type": "markdown",
      "source": [
        "Воспользуемся всем тем, что мы уже написали и соеденим все такой вещью как \"логика\". Если выводить алгоритм работы, то он следующий:\n",
        "- Центрируем данные\n",
        "- Вычисляем ковариационную матрицу\n",
        "- Находим собсвтенный вектор\n",
        "- Сортируем айгенвектора и айгензначения\n",
        "- Отбираем k значений\n",
        "- Делаем матрицу проекций и проецируем на пространство главных компонентов\n",
        "- Находим долю объяснённой дисперсии\n"
      ],
      "metadata": {
        "id": "-d0t5tLYewDW"
      }
    },
    {
      "cell_type": "code",
      "source": [
        "from typing import Tuple, Dict, List\n",
        "\n",
        "def pca(X: Matrix, k: int) -> Tuple[Matrix, float]:\n",
        "    # Центрирование данных\n",
        "    X_centered = center_data(X)\n",
        "\n",
        "    # Вычисление ковариационной матрицы\n",
        "    cov_matrix = covariance_matrix(X_centered)\n",
        "\n",
        "    # Нахождение собственных значений\n",
        "    eigenvalues = find_eigenvalues(cov_matrix)\n",
        "\n",
        "    # Нахождение собственных векторов\n",
        "    eigenvectors_dict = find_eigenvectors(cov_matrix, eigenvalues)\n",
        "\n",
        "    # Сортировка собственных значений и векторов по убыванию\n",
        "    sorted_eigenvalues = sorted(eigenvalues, reverse=True)\n",
        "\n",
        "    # Отбираем только первые k собственных значений и соответствующие им векторы\n",
        "    k = min(k, len(sorted_eigenvalues))\n",
        "    top_k_eigenvalues = sorted_eigenvalues[:k]\n",
        "\n",
        "    # Формируем матрицу проекции\n",
        "    n_features = X.cols\n",
        "    projection_matrix = Matrix(k, n_features)\n",
        "    for i in range(k):\n",
        "        eigenvalue = top_k_eigenvalues[i]\n",
        "        eigenvector = eigenvectors_dict.get(eigenvalue, [])\n",
        "\n",
        "        # Записываем собственный вектор в матрицу проекции\n",
        "        for j in range(len(eigenvector)):\n",
        "            projection_matrix.set(i, j, eigenvector[j])\n",
        "\n",
        "    # Проекция данных на пространство главных компонент\n",
        "    # X_centered [n_samples, n_features], projection_matrix' [n_features, k]\n",
        "    # результат: [n_samples, k]\n",
        "    n_samples = X.rows\n",
        "    projected_data = Matrix(n_samples, k)\n",
        "\n",
        "    for i in range(n_samples):\n",
        "        for j in range(k):\n",
        "            # Скалярное произведение i-й строки центрированных данных и j-го собственного вектора\n",
        "            dot_product = 0.0\n",
        "            for l in range(n_features):\n",
        "                dot_product += X_centered.get(i, l) * projection_matrix.get(j, l)\n",
        "            projected_data.set(i, j, dot_product)\n",
        "\n",
        "    # Вычисление доли объяснённой дисперсии\n",
        "    explained_var_ratio = explained_variance_ratio(sorted_eigenvalues, k)\n",
        "\n",
        "    return projected_data, explained_var_ratio"
      ],
      "metadata": {
        "id": "BFQh5i5HzsLA"
      },
      "execution_count": null,
      "outputs": []
    },
    {
      "cell_type": "code",
      "source": [
        "X = Matrix(3, 3)\n",
        "X.set(0, 0, 2); X.set(0, 1, 1); X.set(0, 2, 3)\n",
        "X.set(1, 0, 4); X.set(1, 1, 2); X.set(1, 2, 4)\n",
        "X.set(2, 0, 5); X.set(2, 1, 1); X.set(2, 2, 4)\n",
        "\n",
        "\n",
        "# Применяем PCA для 2 главных компонент\n",
        "projected_data, evr = pca(X, k=2)\n",
        "\n",
        "print(\"Проекция данных на 2 главные компоненты:\")\n",
        "for i in range(projected_data.rows):\n",
        "    print([projected_data.get(i, j) for j in range(projected_data.cols)])\n",
        "\n",
        "print(f\"Доля объяснённой дисперсии: {evr:.2f}\")"
      ],
      "metadata": {
        "colab": {
          "base_uri": "https://localhost:8080/"
        },
        "id": "K-6RLvHYQhHr",
        "outputId": "79b49944-4d53-4e81-f371-b0ed31840b5c"
      },
      "execution_count": null,
      "outputs": [
        {
          "output_type": "stream",
          "name": "stdout",
          "text": [
            "Проекция данных на 2 главные компоненты:\n",
            "[-1.8172760982835927, 1.1102230246251565e-16]\n",
            "[0.4869376515434315, 0.0]\n",
            "[1.330338446740162, 1.6653345369377348e-16]\n",
            "Доля объяснённой дисперсии: 1.00\n"
          ]
        }
      ]
    },
    {
      "cell_type": "markdown",
      "source": [
        "## Визуализация"
      ],
      "metadata": {
        "id": "txMhWuKsuOfF"
      }
    },
    {
      "cell_type": "code",
      "source": [
        "from matplotlib.figure import Figure\n",
        "import matplotlib.pyplot as plt\n",
        "\n",
        "def plot_pca_projection(X_proj: 'Matrix') -> Figure:\n",
        "    x = [X_proj.get(i, 0) for i in range(X_proj.rows)]\n",
        "    y = [X_proj.get(i, 1) for i in range(X_proj.rows)]\n",
        "\n",
        "    fig, ax = plt.subplots()\n",
        "    ax.scatter(x, y, s=40)\n",
        "    ax.set_xlabel(\"PC1\")\n",
        "    ax.set_ylabel(\"PC2\")\n",
        "    ax.set_title(\"PCA проекция\")\n",
        "    ax.grid(True, ls=\"--\", lw=0.3)\n",
        "    fig.tight_layout()\n",
        "\n",
        "    return fig\n",
        "\n",
        "fig = plot_pca_projection(projected_data)\n",
        "fig.show()"
      ],
      "metadata": {
        "colab": {
          "base_uri": "https://localhost:8080/",
          "height": 487
        },
        "id": "QHMYLZiqQ8uB",
        "outputId": "07b0d032-106a-41cc-b222-4d856c013148"
      },
      "execution_count": null,
      "outputs": [
        {
          "output_type": "display_data",
          "data": {
            "text/plain": [
              "<Figure size 640x480 with 1 Axes>"
            ],
            "image/png": "[encoded data removed]"
          },
          "metadata": {}
        }
      ]
    },
    {
      "cell_type": "markdown",
      "source": [
        "Видно, что разброс есть"
      ],
      "metadata": {
        "id": "RKVI-0jNf-Lq"
      }
    },
    {
      "cell_type": "markdown",
      "source": [
        "## Вычесление MAE"
      ],
      "metadata": {
        "id": "tyd8u4yu2v8C"
      }
    },
    {
      "cell_type": "markdown",
      "source": [
        "Метод MAE говорит о среднеквадротичной ошибке, то есть квадратная разность элемнтов матриц начальной и новой, деленная на всю размерность $(n \\times m)$."
      ],
      "metadata": {
        "id": "NL47MRpLhQpm"
      }
    },
    {
      "cell_type": "code",
      "source": [
        "def reconstruction_error(X_orig: 'Matrix', X_recon: 'Matrix') -> float:\n",
        "    \"\"\" Вычисляет MSE между исходными и восстановленными данными \"\"\"\n",
        "\n",
        "    n_samples = X_orig.rows\n",
        "    n_features = X_orig.cols\n",
        "    total_elements = n_samples * n_features\n",
        "\n",
        "    # Сумма квадратов разностей\n",
        "    squared_error_sum = 0.0\n",
        "\n",
        "    for i in range(n_samples):\n",
        "        for j in range(n_features):\n",
        "            # Разница между элементами\n",
        "            diff = X_orig.get(i, j) - X_recon.get(i, j)\n",
        "            # Квадрат разницы\n",
        "            squared_error_sum += diff * diff\n",
        "\n",
        "    # Среднее значение суммы квадратов разностей\n",
        "    mse = squared_error_sum / total_elements\n",
        "\n",
        "    return mse"
      ],
      "metadata": {
        "id": "x03Z5M9yyp7L"
      },
      "execution_count": null,
      "outputs": []
    },
    {
      "cell_type": "code",
      "source": [
        "X_o = Matrix(2, 2)\n",
        "X_o.set(0, 0, 1)\n",
        "X_o.set(0, 1, 2)\n",
        "X_o.set(1, 0, 3)\n",
        "X_o.set(1, 1, 4)\n",
        "\n",
        "X_r = Matrix(2, 2)\n",
        "X_r.set(0, 0, 0.9)\n",
        "X_r.set(0, 1, 2.1)\n",
        "X_r.set(1, 0, 3.2)\n",
        "X_r.set(1, 1, 3.8)\n",
        "\n",
        "mse  = reconstruction_error(X_o, X_r)\n",
        "print(\"MSE =\", mse)\n"
      ],
      "metadata": {
        "colab": {
          "base_uri": "https://localhost:8080/"
        },
        "id": "kBRqwJoW24A_",
        "outputId": "fd64cc9f-4d18-42b3-c187-f6def1db5868"
      },
      "execution_count": null,
      "outputs": [
        {
          "output_type": "stream",
          "name": "stdout",
          "text": [
            "MSE = 0.025000000000000036\n"
          ]
        }
      ]
    },
    {
      "cell_type": "markdown",
      "source": [
        "## Автоматический выбор числа главных компонент"
      ],
      "metadata": {
        "id": "2jqSBM9o_k9o"
      }
    },
    {
      "cell_type": "markdown",
      "source": [
        "Суть нахождения заключается в формулке:\n",
        "$$\n",
        "k = \\min\\Biggl\\{\\,k \\;\\colon\\;\n",
        "\\frac{\\displaystyle\\sum_{i=1}^k \\lambda_i}\n",
        "     {\\displaystyle\\sum_{i=1}^m \\lambda_i}\n",
        "\\ge \\text{threshold}\n",
        "\\Biggr\\}.\n",
        "$$\n",
        "\n",
        "На ее основе мы и ищем подхожящее k"
      ],
      "metadata": {
        "id": "Ahb9juIRh7P1"
      }
    },
    {
      "cell_type": "code",
      "source": [
        "def auto_select_k(eigenvalues: List[float], threshold: float = 0.95) -> int:\n",
        "    \"\"\" Автоматически выбор оптимального числа главных компонентов \"\"\"\n",
        "\n",
        "    # Находим минимальное k, при котором доля объясненной дисперсии >= threshold\n",
        "    for k in range(len(eigenvalues)):\n",
        "        k += 1\n",
        "        cumulative_variance_ratio = explained_variance_ratio(eigenvalues, k)\n",
        "        # cumulative_variance_ratio += eigenvalue / total_variance\n",
        "        if cumulative_variance_ratio >= threshold:\n",
        "            return k\n",
        "\n",
        "    return len(eigenvalues)"
      ],
      "metadata": {
        "id": "RRr4Z5Gc38V5"
      },
      "execution_count": null,
      "outputs": []
    },
    {
      "cell_type": "markdown",
      "source": [
        "Для наглядности и собственного понимания я представил в добавок\n",
        "к примеру наглядные графики, которые дают понять такой выбор."
      ],
      "metadata": {
        "id": "fH7RcRtkjBZ7"
      }
    },
    {
      "cell_type": "code",
      "source": [
        "eigenvalues2 = [5.0, 4.5, 4.0, 3.5, 3.0, 2.5, 2.0]\n",
        "k2 = auto_select_k(eigenvalues2)\n",
        "\n",
        "total2 = sum(eigenvalues2)\n",
        "cumulative_variance2 = [sum(sorted(eigenvalues2, reverse=True)[:i+1])/total2 for i in range(len(eigenvalues2))]\n",
        "\n",
        "plt.figure(figsize=(10, 6))\n",
        "plt.bar(range(1, len(eigenvalues2)+1), eigenvalues2)\n",
        "plt.xlabel('Компонента')\n",
        "plt.ylabel('Собственное значение')\n",
        "plt.title('Собственные значения')\n",
        "plt.grid(True)\n",
        "plt.show()\n",
        "\n",
        "plt.figure(figsize=(10, 6))\n",
        "plt.plot(range(1, len(eigenvalues2)+1), cumulative_variance2, marker='o')\n",
        "plt.axhline(y=0.95, color='r', linestyle='--', label='Порог 95%')\n",
        "plt.axvline(x=k2, color='g', linestyle='--', label=f'Выбранное k={k2}')\n",
        "plt.xlabel('Количество компонент')\n",
        "plt.ylabel('Доля объясненной дисперсии')\n",
        "plt.title('Кумулятивная доля объясненной дисперсии')\n",
        "plt.grid(True)\n",
        "plt.legend()\n",
        "plt.show()\n",
        "\n",
        "print(f\"\\nСобственные значения = {eigenvalues2}\")\n",
        "print(f\"Выбранное k = {k2}\")\n",
        "print(f\"Доля объясненной дисперсии при k={k2}: {cumulative_variance2[k2-1]:.4f}\")"
      ],
      "metadata": {
        "colab": {
          "base_uri": "https://localhost:8080/",
          "height": 1000
        },
        "id": "cUYAunlsBpcS",
        "outputId": "898bc8f8-ef53-4b97-c3c6-2982f88a267e"
      },
      "execution_count": null,
      "outputs": [
        {
          "output_type": "display_data",
          "data": {
            "text/plain": [
              "<Figure size 1000x600 with 1 Axes>"
            ],
            "image/png": "[encoded data removed]"
          },
          "metadata": {}
        },
        {
          "output_type": "display_data",
          "data": {
            "text/plain": [
              "<Figure size 1000x600 with 1 Axes>"
            ],
            "image/png": "[encoded data removed]"
          },
          "metadata": {}
        },
        {
          "output_type": "stream",
          "name": "stdout",
          "text": [
            "\n",
            "Собственные значения = [5.0, 4.5, 4.0, 3.5, 3.0, 2.5, 2.0]\n",
            "Выбранное k = 7\n",
            "Доля объясненной дисперсии при k=7: 1.0000\n"
          ]
        }
      ]
    },
    {
      "cell_type": "markdown",
      "source": [
        "Добавим в уже написанную нами функцию PCA автомататический выбор k"
      ],
      "metadata": {
        "id": "_39VNtb1Ejxi"
      }
    },
    {
      "cell_type": "code",
      "source": [
        "# def pca_auto(X: Matrix, threshold: float = 0.95) -> Tuple[Matrix, float, int]:\n",
        "#     \"\"\" Выполняет PCA с автоматическим выбором числа компонент. \"\"\"\n",
        "#     # Центрирование данных и вычисление ковариационной матрицы\n",
        "#     X_centered = center_data(X)\n",
        "#     cov_matrix = covariance_matrix(X_centered)\n",
        "\n",
        "#     # Нахождение собственных значений\n",
        "#     eigenvalues = find_eigenvalues(cov_matrix)\n",
        "\n",
        "#     # Автоматический выбор k на основе порога\n",
        "#     k = auto_select_k(eigenvalues, threshold)\n",
        "\n",
        "#     # Выполнение PCA с выбранным k\n",
        "#     projected_data, explained_variance = pca(X, k)\n",
        "\n",
        "#     return projected_data, explained_variance, k"
      ],
      "metadata": {
        "id": "MO3OqZoi_ugF"
      },
      "execution_count": null,
      "outputs": []
    },
    {
      "cell_type": "code",
      "source": [
        "def pca_auto(X: Matrix, threshold: float = 0.95) -> Tuple[Matrix, float]:\n",
        "    # Центрирование данных\n",
        "    X_centered = center_data(X)\n",
        "\n",
        "    # Вычисление ковариационной матрицы\n",
        "    cov_matrix = covariance_matrix(X_centered)\n",
        "\n",
        "    # Нахождение собственных значений\n",
        "    eigenvalues = find_eigenvalues(cov_matrix)\n",
        "\n",
        "    # Нахождение собственных векторов\n",
        "    eigenvectors_dict = find_eigenvectors(cov_matrix, eigenvalues)\n",
        "\n",
        "    # Сортировка собственных значений и векторов по убыванию\n",
        "    sorted_eigenvalues = sorted(eigenvalues, reverse=True)\n",
        "\n",
        "    # Автоматический выбор k на основе порога\n",
        "    k = auto_select_k(eigenvalues, threshold)\n",
        "\n",
        "    # Отбираем только первые k собственных значений и соответствующие им векторы\n",
        "    k = min(k, len(sorted_eigenvalues))\n",
        "    top_k_eigenvalues = sorted_eigenvalues[:k]\n",
        "\n",
        "    # Формируем матрицу проекции\n",
        "    n_features = X.cols\n",
        "    projection_matrix = Matrix(k, n_features)\n",
        "    for i in range(k):\n",
        "        eigenvalue = top_k_eigenvalues[i]\n",
        "        eigenvector = eigenvectors_dict.get(eigenvalue, [])\n",
        "\n",
        "        # Записываем собственный вектор в матрицу проекции\n",
        "        for j in range(len(eigenvector)):\n",
        "            projection_matrix.set(i, j, eigenvector[j])\n",
        "\n",
        "    # Проекция данных на пространство главных компонент\n",
        "    # X_centered [n_samples, n_features], projection_matrix' [n_features, k]\n",
        "    # Результат: [n_samples, k]\n",
        "    n_samples = X.rows\n",
        "    projected_data = Matrix(n_samples, k)\n",
        "\n",
        "    for i in range(n_samples):\n",
        "        for j in range(k):\n",
        "            # Скалярное произведение i-й строки центрированных данных и j-го собственного вектора\n",
        "            dot_product = 0.0\n",
        "            for l in range(n_features):\n",
        "                dot_product += X_centered.get(i, l) * projection_matrix.get(j, l)\n",
        "            projected_data.set(i, j, dot_product)\n",
        "\n",
        "    # Вычисление доли объяснённой дисперсии\n",
        "    explained_var_ratio = explained_variance_ratio(sorted_eigenvalues, k)\n",
        "\n",
        "    return projected_data, explained_var_ratio"
      ],
      "metadata": {
        "id": "iB3eeFYfBo8r"
      },
      "execution_count": null,
      "outputs": []
    },
    {
      "cell_type": "code",
      "source": [
        "X = Matrix(3, 3)\n",
        "X.set(0, 0, 2); X.set(0, 1, 1); X.set(0, 2, 3)\n",
        "X.set(1, 0, 4); X.set(1, 1, 2); X.set(1, 2, 4)\n",
        "X.set(2, 0, 5); X.set(2, 1, 1); X.set(2, 2, 4)\n",
        "\n",
        "\n",
        "projected_data, evr = pca_auto(X)\n",
        "\n",
        "print(f\"Автоматический выбор k: {k}\")\n",
        "print(f\"Проекция данных на {k} главные компоненты:\")\n",
        "for i in range(projected_data.rows):\n",
        "    print([projected_data.get(i, j) for j in range(projected_data.cols)])\n",
        "\n",
        "print(f\"Доля объяснённой дисперсии: {evr:.2f}\")"
      ],
      "metadata": {
        "colab": {
          "base_uri": "https://localhost:8080/"
        },
        "id": "yKV3gHvzGPll",
        "outputId": "0c104d14-a07a-43fe-b7cf-c5b22aa8dda4"
      },
      "execution_count": null,
      "outputs": [
        {
          "output_type": "stream",
          "name": "stdout",
          "text": [
            "Автоматический выбор k: 2\n",
            "Проекция данных на 2 главные компоненты:\n",
            "[-1.8172760982835927, 1.1102230246251565e-16]\n",
            "[0.4869376515434315, 0.0]\n",
            "[1.330338446740162, 1.6653345369377348e-16]\n",
            "Доля объяснённой дисперсии: 1.00\n"
          ]
        }
      ]
    },
    {
      "cell_type": "markdown",
      "source": [
        "## Обработка пропущенных значений"
      ],
      "metadata": {
        "id": "bwczEM8FHWts"
      }
    },
    {
      "cell_type": "markdown",
      "source": [
        "Логика обработки проста: если есть NaN объект, то вписываем среднее по всему столбцу."
      ],
      "metadata": {
        "id": "2aoLzVUUo18S"
      }
    },
    {
      "cell_type": "code",
      "source": [
        "import math\n",
        "\n",
        "def handle_missing_values(X: 'Matrix') -> 'Matrix':\n",
        "    \"\"\" Обработка пропущенных значений (NaN) в матрице \"\"\"\n",
        "    # Создаем новую матрицу того же размера\n",
        "    rows, cols = X.rows, X.cols\n",
        "    X_filled = Matrix(rows, cols)\n",
        "\n",
        "    # Для каждого столбца вычисляем среднее значение (исключая NaN)\n",
        "    column_means = []\n",
        "    for j in range(cols):\n",
        "        values = []\n",
        "        for i in range(rows):\n",
        "            value = X.get(i, j)\n",
        "            # Проверяем, не является ли значение NaN\n",
        "            if not (math.isnan(value) if hasattr(math, 'isnan') else (value != value)):\n",
        "                values.append(value)\n",
        "\n",
        "        # Вычисляем среднее значение столбца\n",
        "        mean = sum(values) / len(values) if values else 0.0\n",
        "        column_means.append(mean)\n",
        "\n",
        "    # Заполняем новую матрицу, заменяя NaN на средние значения\n",
        "    for i in range(rows):\n",
        "        for j in range(cols):\n",
        "            value = X.get(i, j)\n",
        "            # Проверяем, является ли значение NaN\n",
        "            if math.isnan(value) if hasattr(math, 'isnan') else (value != value):\n",
        "                # Если значение NaN, заменяем его на среднее по столбцу\n",
        "                X_filled.set(i, j, column_means[j])\n",
        "            else:\n",
        "                # Если значение не NaN, сохраняем его\n",
        "                X_filled.set(i, j, value)\n",
        "\n",
        "    return X_filled"
      ],
      "metadata": {
        "id": "SwsQqapzHaId"
      },
      "execution_count": null,
      "outputs": []
    },
    {
      "cell_type": "code",
      "source": [
        "X = Matrix(3, 3)\n",
        "X.set(0, 0, 1); X.set(0, 1, float('nan')); X.set(0, 2, 3)\n",
        "X.set(1, 0, float('nan')); X.set(1, 1, 2); X.set(1, 2, 5)\n",
        "X.set(2, 0, 2); X.set(2, 1, 4); X.set(2, 2, float('nan'))\n",
        "\n",
        "print(f\"Начальная матрица: \\n{X}\")\n",
        "print(\"---------------\")\n",
        "print(f\"После обработки: \\n{handle_missing_values(X)}\")"
      ],
      "metadata": {
        "colab": {
          "base_uri": "https://localhost:8080/"
        },
        "id": "GkA2PibWID1Z",
        "outputId": "32e42631-63a1-4b69-835b-c1ed5edc9502"
      },
      "execution_count": null,
      "outputs": [
        {
          "output_type": "stream",
          "name": "stdout",
          "text": [
            "Начальная матрица: \n",
            "[1.0, nan, 3.0]\n",
            "[nan, 2.0, 5.0]\n",
            "[2.0, 4.0, nan]\n",
            "---------------\n",
            "После обработки: \n",
            "[1.0, 3.0, 3.0]\n",
            "[1.5, 2.0, 5.0]\n",
            "[2.0, 4.0, 4.0]\n"
          ]
        }
      ]
    },
    {
      "cell_type": "markdown",
      "source": [
        "## Иследования влияния шума на PCA"
      ],
      "metadata": {
        "id": "ekLcHX94PSLT"
      }
    },
    {
      "cell_type": "markdown",
      "source": [
        "Для иследования нужно создать \"шум\". Вычеслим стандартное отклонение каждого признака по следующей формуле:\n",
        "$$\n",
        "\\sqrt{\\frac{1}{n}\n",
        "  \\sum_{i=1}^{n} \\bigl(X_{ij} - \\bar X_j\\bigr)^2}\n",
        "$$\n",
        "$X$ - начальная матрица \\\n",
        "$\\bar X$ - матрица, в которой задана сумма каждого столбца деленная на $n$ \\\n",
        "$n$ - количесвто строк\n",
        "\n",
        "\n",
        "После чего была использованна функция random, которая и давала шуму используя найденные выше параметры (получилось нармальное распределение).\n",
        "\n",
        "Далее применяем PCA и анализируем."
      ],
      "metadata": {
        "id": "mk1U_XYEpYlx"
      }
    },
    {
      "cell_type": "code",
      "source": [
        "import random\n",
        "import math\n",
        "from typing import Tuple, Dict, List\n",
        "\n",
        "def add_noise_and_compare(X: 'Matrix', noise_level: float = 0.1, k: int = 2):\n",
        "    \"\"\" Исследует влияние шума на результаты PCA \"\"\"\n",
        "    # вычисляем стандартное отклонения по каждому признаку\n",
        "    n_samples = X.rows\n",
        "    n_features = X.cols\n",
        "\n",
        "    means = [0.0] * n_features\n",
        "    for j in range(n_features):\n",
        "        sum_col = 0.0\n",
        "        for i in range(n_samples):\n",
        "            sum_col += X.get(i, j)\n",
        "        means[j] = sum_col / n_samples\n",
        "\n",
        "    std_devs = [0.0] * n_features\n",
        "    for j in range(n_features):\n",
        "        sum_squared_diff = 0.0\n",
        "        for i in range(n_samples):\n",
        "            diff = X.get(i, j) - means[j]\n",
        "            sum_squared_diff += diff * diff\n",
        "        std_devs[j] = math.sqrt(sum_squared_diff / n_samples)\n",
        "\n",
        "    # Созданаем матрицу с шумом\n",
        "    X_noisy = Matrix(n_samples, n_features)\n",
        "    for i in range(n_samples):\n",
        "        for j in range(n_features):\n",
        "            # Генерация случайного шума (нормальное распределение)\n",
        "            noise = random.gauss(0, std_devs[j] * noise_level)\n",
        "            X_noisy.set(i, j, X.get(i, j) + noise)\n",
        "\n",
        "    # Применение PCA к исходным данным\n",
        "    original_pca_result = pca(X, k)\n",
        "\n",
        "    # Применение PCA к зашумленным данным\n",
        "    noisy_pca_result = pca(X_noisy, k)\n",
        "\n",
        "    # Формирование результата\n",
        "    return original_pca_result, noisy_pca_result, X_noisy\n",
        "\n",
        "def compare_pca_results(original_result: Tuple['Matrix', float],\n",
        "                       noisy_result: Tuple['Matrix', float],\n",
        "                       noise_level: float = 0.1):\n",
        "    \"\"\" Анализ и сравнение результатов PCA до и после шума \"\"\"\n",
        "    original_projection, original_explained_var = original_result\n",
        "    noisy_projection, noisy_explained_var = noisy_result\n",
        "\n",
        "    # Вычисление среднеквадратичного отклонения проекций\n",
        "    n_samples = original_projection.rows\n",
        "    n_components = original_projection.cols\n",
        "\n",
        "    mse = reconstruction_error(original_projection, noisy_projection)\n",
        "\n",
        "    # Вычисление относительного изменения объясненной дисперсии\n",
        "    explained_var_change = (noisy_explained_var - original_explained_var) / original_explained_var\n",
        "\n",
        "    # Формирование результата\n",
        "    comparison = {\n",
        "        \"уровень шума\": noise_level,\n",
        "        \"изначальная дисперсия \": original_explained_var,\n",
        "        \"шумная дисперсия\": noisy_explained_var,\n",
        "        \"относительное изменение дисперсии\": explained_var_change,\n",
        "        \"MSE\": mse,\n",
        "        \"относительная ошибка\": math.sqrt(mse) / math.sqrt(n_samples * n_components)\n",
        "    }\n",
        "\n",
        "    return comparison"
      ],
      "metadata": {
        "id": "MnJzuZIEPR8B"
      },
      "execution_count": null,
      "outputs": []
    },
    {
      "cell_type": "code",
      "source": [
        "# Пример использования\n",
        "X = Matrix(3, 3)\n",
        "X.set(0, 0, 2); X.set(0, 1, 1); X.set(0, 2, 3)\n",
        "X.set(1, 0, 4); X.set(1, 1, 2); X.set(1, 2, 4)\n",
        "X.set(2, 0, 5); X.set(2, 1, 1); X.set(2, 2, 4)\n",
        "\n",
        "# Добавление шума и применение PCA\n",
        "original_result, noisy_result, X_noisy = add_noise_and_compare(X, noise_level=0.1, k=2)\n",
        "\n",
        "# Анализ результатов\n",
        "comparison = compare_pca_results(original_result, noisy_result, noise_level=0.1)\n",
        "\n",
        "print(\"Исходные данные:\")\n",
        "print(X)\n",
        "print(\"\\nДанные с шумом:\")\n",
        "print(X_noisy)\n",
        "print(\"\\nPCA на исходных данных:\")\n",
        "print(original_result[0])\n",
        "print(\"Объясненная дисперсия:\", original_result[1])\n",
        "print(\"\\nPCA на данных с шумом:\")\n",
        "print(noisy_result[0])\n",
        "print(\"Объясненная дисперсия:\", noisy_result[1])\n",
        "print(\"\\nСравнение результатов:\")\n",
        "print(comparison)"
      ],
      "metadata": {
        "colab": {
          "base_uri": "https://localhost:8080/"
        },
        "id": "K-wIDmBtIoAT",
        "outputId": "88e6a556-202f-4c4e-b495-84bb0f552b8d"
      },
      "execution_count": null,
      "outputs": [
        {
          "output_type": "stream",
          "name": "stdout",
          "text": [
            "Исходные данные:\n",
            "[2.0, 1.0, 3.0]\n",
            "[4.0, 2.0, 4.0]\n",
            "[5.0, 1.0, 4.0]\n",
            "\n",
            "Данные с шумом:\n",
            "[2.1303804120787726, 0.9244758479491924, 2.9121410678513437]\n",
            "[4.03896980482663, 1.9939657968738074, 4.077621785902444]\n",
            "[4.869318693369989, 1.0401376517293115, 3.99439148466242]\n",
            "\n",
            "PCA на исходных данных:\n",
            "[-1.8172760982835927, 1.1102230246251565e-16]\n",
            "[0.4869376515434315, 0.0]\n",
            "[1.330338446740162, 1.6653345369377348e-16]\n",
            "Объясненная дисперсия: 1.0\n",
            "\n",
            "PCA на данных с шумом:\n",
            "[-1.7615097458563795, -3.3306690738754696e-16]\n",
            "[0.6014530326916661, -1.1102230246251565e-16]\n",
            "[1.1600567131647144, -1.6653345369377348e-16]\n",
            "Объясненная дисперсия: 1.0\n",
            "\n",
            "Сравнение результатов:\n",
            "{'уровень шума': 0.1, 'изначальная дисперсия ': 1.0, 'шумная дисперсия': 1.0, 'относительное изменение дисперсии': 0.0, 'MSE': 0.007536587895336885, 'относительная ошибка': 0.03544147263526373}\n"
          ]
        }
      ]
    },
    {
      "cell_type": "markdown",
      "source": [
        "## PCA на Dataset"
      ],
      "metadata": {
        "id": "dD8zIfZLSoX8"
      }
    },
    {
      "cell_type": "markdown",
      "source": [
        "Для демонстрации PCA подойдет датасет Iris Species с Kaggle, который cодержит измерения 4 характеристик цветков ириса (размерности лепестков и чашелистиков) и имеет 3 класса (3 вида ириса)\n"
      ],
      "metadata": {
        "id": "irWMkHsQTpiD"
      }
    },
    {
      "cell_type": "code",
      "source": [
        "import csv\n",
        "\n",
        "def load_dataset_to_matrix(filename: str) -> 'Matrix':\n",
        "    \"\"\" Загружает датасет \"\"\"\n",
        "\n",
        "\n",
        "def apply_pca_to_dataset(dataset_name: str):\n",
        "    \"\"\" Применяет PCA к датасету \"\"\"\n"
      ],
      "metadata": {
        "id": "lmQi635OPZGW"
      },
      "execution_count": null,
      "outputs": []
    },
    {
      "cell_type": "code",
      "source": [
        "# dataset = \"Iris.csv\"\n",
        "\n",
        "# projected_data, explained_variance = apply_pca_to_dataset(dataset)"
      ],
      "metadata": {
        "id": "xdN1wDT_Ybwo"
      },
      "execution_count": null,
      "outputs": []
    },
    {
      "cell_type": "code",
      "source": [],
      "metadata": {
        "id": "4N6Rd0lprUiK"
      },
      "execution_count": null,
      "outputs": []
    }
  ]
}